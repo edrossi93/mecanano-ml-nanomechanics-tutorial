{
 "cells": [
  {
   "cell_type": "code",
   "execution_count": 2,
   "id": "52fb79db-2d2f-4837-a966-43ed48ef8c5a",
   "metadata": {},
   "outputs": [
    {
     "name": "stdout",
     "output_type": "stream",
     "text": [
      "Found 100 .csv files in ../data/nanoindentation_curves/training_curves\n"
     ]
    }
   ],
   "source": [
    "# Section 1: Import libraries and set paths\n",
    "\n",
    "import os\n",
    "import numpy as np\n",
    "import pandas as pd\n",
    "import matplotlib.pyplot as plt\n",
    "from glob import glob\n",
    "from scipy.interpolate import interp1d\n",
    "from tensorflow.keras import layers, models\n",
    "\n",
    "# Path to training .csv files\n",
    "DATA_DIR = \"../data/nanoindentation_curves/training_curves\"\n",
    "\n",
    "# Check if directory exists\n",
    "if not os.path.isdir(DATA_DIR):\n",
    "    raise FileNotFoundError(f\"The specified directory does not exist: {DATA_DIR}\")\n",
    "\n",
    "# Check if there are any .csv files in the directory\n",
    "curve_files = glob(os.path.join(DATA_DIR, \"*.csv\"))\n",
    "\n",
    "if len(curve_files) == 0:\n",
    "    raise FileNotFoundError(f\"No .csv files found in directory: {DATA_DIR}\")\n",
    "\n",
    "print(f\"Found {len(curve_files)} .csv files in {DATA_DIR}\")"
   ]
  },
  {
   "cell_type": "code",
   "execution_count": 3,
   "id": "ac0a83d1-540d-4d9d-86c2-62d62104d308",
   "metadata": {},
   "outputs": [],
   "source": [
    "# Section 2: Load indentation curves and extract load vs. depth between \"Surface Index\" and \"End Of Loading Index\"\n",
    "\n",
    "def load_curve_from_csv(file_path):\n",
    "    df = pd.read_csv(file_path, skiprows=[1], sep=\",\")  # skip unit row\n",
    "    marker_col = df.columns[0]\n",
    "\n",
    "    # Find indices for Surface and End Of Loading\n",
    "    try:\n",
    "        surface_idx = df.index[df[marker_col] == \"Surface Index\"].tolist()[0]\n",
    "        end_idx = df.index[df[marker_col] == \"End Of Loading Index\"].tolist()[0]\n",
    "    except IndexError:\n",
    "        print(f\"Skipping {file_path} due to missing markers.\")\n",
    "        return None\n",
    "\n",
    "    # Extract relevant portion of the curve\n",
    "    df_section = df.loc[surface_idx:end_idx].copy()\n",
    "    df_section = df_section.dropna(subset=[\"LOAD\", \"DEPTH\"])\n",
    "\n",
    "    depth = df_section[\"DEPTH\"].astype(float).values\n",
    "    load = df_section[\"LOAD\"].astype(float).values\n",
    "\n",
    "    return depth, load\n",
    "\n",
    "# Load all curves\n",
    "curve_files = glob(os.path.join(DATA_DIR, \"*.csv\"))\n",
    "curves = []\n",
    "\n",
    "for f in curve_files:\n",
    "    result = load_curve_from_csv(f)\n",
    "    if result:\n",
    "        curves.append(result)"
   ]
  },
  {
   "cell_type": "code",
   "execution_count": 4,
   "id": "1c413a61-3a79-4abd-8274-3236617debea",
   "metadata": {},
   "outputs": [
    {
     "name": "stdout",
     "output_type": "stream",
     "text": [
      "Dataset shape: (100, 512, 1)\n"
     ]
    }
   ],
   "source": [
    "# Section 3: Normalize and resample each curve to a fixed number of points (e.g. 512)\n",
    "\n",
    "from scipy.signal import savgol_filter\n",
    "\n",
    "N_POINTS = 512\n",
    "\n",
    "def normalize_and_interpolate(depth, load, n_points=N_POINTS, smoothing=False):\n",
    "    sorted_idx = np.argsort(depth)\n",
    "    depth = depth[sorted_idx]\n",
    "    load = load[sorted_idx]\n",
    "\n",
    "    new_depth = np.linspace(np.min(depth), np.max(depth), n_points)\n",
    "    interp_fn = interp1d(depth, load, kind='linear', fill_value=\"extrapolate\")\n",
    "    new_load = interp_fn(new_depth)\n",
    "\n",
    "    # Smoothing disattivato nel training\n",
    "    if smoothing:\n",
    "        new_load = savgol_filter(new_load, window_length=11, polyorder=3)\n",
    "\n",
    "    new_load = (new_load - np.mean(new_load)) / np.std(new_load)\n",
    "    return new_load\n",
    "\n",
    "X_data = np.array([normalize_and_interpolate(d, l) for d, l in curves])\n",
    "X_data = X_data[..., np.newaxis]  # shape: (N, 512, 1)\n",
    "\n",
    "print(\"Dataset shape:\", X_data.shape)"
   ]
  },
  {
   "cell_type": "code",
   "execution_count": 5,
   "id": "48e3ddd5-d0f1-4b80-8a10-54e0757f6567",
   "metadata": {},
   "outputs": [
    {
     "data": {
      "application/vnd.jupyter.widget-view+json": {
       "model_id": "5c2a6b9101a1420392d0f74628129fb0",
       "version_major": 2,
       "version_minor": 0
      },
      "text/plain": [
       "interactive(children=(IntSlider(value=0, continuous_update=False, description='Curve:', max=99), Output()), _d…"
      ]
     },
     "metadata": {},
     "output_type": "display_data"
    }
   ],
   "source": [
    "# Section 3b: Visualize load–depth curves (normalized)\n",
    "\n",
    "import matplotlib.pyplot as plt\n",
    "import ipywidgets as widgets\n",
    "from IPython.display import display\n",
    "\n",
    "def interactive_training_curve_viewer(X_data):\n",
    "    \"\"\"\n",
    "    Interactive viewer for normalized training curves using a slider.\n",
    "    \"\"\"\n",
    "\n",
    "    def plot_curve(i):\n",
    "        curve = X_data[i].squeeze()\n",
    "        plt.figure(figsize=(8, 4))\n",
    "        plt.plot(curve, label=f\"Curve #{i}\", linewidth=1.5)\n",
    "        plt.xlabel(\"Normalized depth index\")\n",
    "        plt.ylabel(\"Normalized load\")\n",
    "        plt.title(f\"Training curve #{i}\")\n",
    "        plt.grid(True)\n",
    "        plt.legend()\n",
    "        plt.tight_layout()\n",
    "        plt.show()\n",
    "\n",
    "    slider = widgets.IntSlider(\n",
    "        value=0,\n",
    "        min=0,\n",
    "        max=len(X_data) - 1,\n",
    "        step=1,\n",
    "        description='Curve:',\n",
    "        continuous_update=False\n",
    "    )\n",
    "\n",
    "    widgets.interact(plot_curve, i=slider)\n",
    "\n",
    "# Esegui questo blocco per visualizzare le curve una per una\n",
    "interactive_training_curve_viewer(X_data)"
   ]
  },
  {
   "cell_type": "code",
   "execution_count": 6,
   "id": "90826e94-3d6e-4b77-a71a-f0ff7f8da4d5",
   "metadata": {},
   "outputs": [
    {
     "data": {
      "text/html": [
       "<pre style=\"white-space:pre;overflow-x:auto;line-height:normal;font-family:Menlo,'DejaVu Sans Mono',consolas,'Courier New',monospace\"><span style=\"font-weight: bold\">Model: \"functional\"</span>\n",
       "</pre>\n"
      ],
      "text/plain": [
       "\u001b[1mModel: \"functional\"\u001b[0m\n"
      ]
     },
     "metadata": {},
     "output_type": "display_data"
    },
    {
     "data": {
      "text/html": [
       "<pre style=\"white-space:pre;overflow-x:auto;line-height:normal;font-family:Menlo,'DejaVu Sans Mono',consolas,'Courier New',monospace\">┏━━━━━━━━━━━━━━━━━━━━━━━━━━━━━━━━━━━━━━┳━━━━━━━━━━━━━━━━━━━━━━━━━━━━━┳━━━━━━━━━━━━━━━━━┓\n",
       "┃<span style=\"font-weight: bold\"> Layer (type)                         </span>┃<span style=\"font-weight: bold\"> Output Shape                </span>┃<span style=\"font-weight: bold\">         Param # </span>┃\n",
       "┡━━━━━━━━━━━━━━━━━━━━━━━━━━━━━━━━━━━━━━╇━━━━━━━━━━━━━━━━━━━━━━━━━━━━━╇━━━━━━━━━━━━━━━━━┩\n",
       "│ input_layer (<span style=\"color: #0087ff; text-decoration-color: #0087ff\">InputLayer</span>)             │ (<span style=\"color: #00d7ff; text-decoration-color: #00d7ff\">None</span>, <span style=\"color: #00af00; text-decoration-color: #00af00\">512</span>, <span style=\"color: #00af00; text-decoration-color: #00af00\">1</span>)              │               <span style=\"color: #00af00; text-decoration-color: #00af00\">0</span> │\n",
       "├──────────────────────────────────────┼─────────────────────────────┼─────────────────┤\n",
       "│ conv1d (<span style=\"color: #0087ff; text-decoration-color: #0087ff\">Conv1D</span>)                      │ (<span style=\"color: #00d7ff; text-decoration-color: #00d7ff\">None</span>, <span style=\"color: #00af00; text-decoration-color: #00af00\">512</span>, <span style=\"color: #00af00; text-decoration-color: #00af00\">32</span>)             │             <span style=\"color: #00af00; text-decoration-color: #00af00\">192</span> │\n",
       "├──────────────────────────────────────┼─────────────────────────────┼─────────────────┤\n",
       "│ max_pooling1d (<span style=\"color: #0087ff; text-decoration-color: #0087ff\">MaxPooling1D</span>)         │ (<span style=\"color: #00d7ff; text-decoration-color: #00d7ff\">None</span>, <span style=\"color: #00af00; text-decoration-color: #00af00\">256</span>, <span style=\"color: #00af00; text-decoration-color: #00af00\">32</span>)             │               <span style=\"color: #00af00; text-decoration-color: #00af00\">0</span> │\n",
       "├──────────────────────────────────────┼─────────────────────────────┼─────────────────┤\n",
       "│ conv1d_1 (<span style=\"color: #0087ff; text-decoration-color: #0087ff\">Conv1D</span>)                    │ (<span style=\"color: #00d7ff; text-decoration-color: #00d7ff\">None</span>, <span style=\"color: #00af00; text-decoration-color: #00af00\">256</span>, <span style=\"color: #00af00; text-decoration-color: #00af00\">64</span>)             │          <span style=\"color: #00af00; text-decoration-color: #00af00\">10,304</span> │\n",
       "├──────────────────────────────────────┼─────────────────────────────┼─────────────────┤\n",
       "│ max_pooling1d_1 (<span style=\"color: #0087ff; text-decoration-color: #0087ff\">MaxPooling1D</span>)       │ (<span style=\"color: #00d7ff; text-decoration-color: #00d7ff\">None</span>, <span style=\"color: #00af00; text-decoration-color: #00af00\">128</span>, <span style=\"color: #00af00; text-decoration-color: #00af00\">64</span>)             │               <span style=\"color: #00af00; text-decoration-color: #00af00\">0</span> │\n",
       "├──────────────────────────────────────┼─────────────────────────────┼─────────────────┤\n",
       "│ conv1d_2 (<span style=\"color: #0087ff; text-decoration-color: #0087ff\">Conv1D</span>)                    │ (<span style=\"color: #00d7ff; text-decoration-color: #00d7ff\">None</span>, <span style=\"color: #00af00; text-decoration-color: #00af00\">128</span>, <span style=\"color: #00af00; text-decoration-color: #00af00\">64</span>)             │          <span style=\"color: #00af00; text-decoration-color: #00af00\">20,544</span> │\n",
       "├──────────────────────────────────────┼─────────────────────────────┼─────────────────┤\n",
       "│ up_sampling1d (<span style=\"color: #0087ff; text-decoration-color: #0087ff\">UpSampling1D</span>)         │ (<span style=\"color: #00d7ff; text-decoration-color: #00d7ff\">None</span>, <span style=\"color: #00af00; text-decoration-color: #00af00\">256</span>, <span style=\"color: #00af00; text-decoration-color: #00af00\">64</span>)             │               <span style=\"color: #00af00; text-decoration-color: #00af00\">0</span> │\n",
       "├──────────────────────────────────────┼─────────────────────────────┼─────────────────┤\n",
       "│ conv1d_3 (<span style=\"color: #0087ff; text-decoration-color: #0087ff\">Conv1D</span>)                    │ (<span style=\"color: #00d7ff; text-decoration-color: #00d7ff\">None</span>, <span style=\"color: #00af00; text-decoration-color: #00af00\">256</span>, <span style=\"color: #00af00; text-decoration-color: #00af00\">32</span>)             │          <span style=\"color: #00af00; text-decoration-color: #00af00\">10,272</span> │\n",
       "├──────────────────────────────────────┼─────────────────────────────┼─────────────────┤\n",
       "│ up_sampling1d_1 (<span style=\"color: #0087ff; text-decoration-color: #0087ff\">UpSampling1D</span>)       │ (<span style=\"color: #00d7ff; text-decoration-color: #00d7ff\">None</span>, <span style=\"color: #00af00; text-decoration-color: #00af00\">512</span>, <span style=\"color: #00af00; text-decoration-color: #00af00\">32</span>)             │               <span style=\"color: #00af00; text-decoration-color: #00af00\">0</span> │\n",
       "├──────────────────────────────────────┼─────────────────────────────┼─────────────────┤\n",
       "│ conv1d_4 (<span style=\"color: #0087ff; text-decoration-color: #0087ff\">Conv1D</span>)                    │ (<span style=\"color: #00d7ff; text-decoration-color: #00d7ff\">None</span>, <span style=\"color: #00af00; text-decoration-color: #00af00\">512</span>, <span style=\"color: #00af00; text-decoration-color: #00af00\">1</span>)              │             <span style=\"color: #00af00; text-decoration-color: #00af00\">161</span> │\n",
       "└──────────────────────────────────────┴─────────────────────────────┴─────────────────┘\n",
       "</pre>\n"
      ],
      "text/plain": [
       "┏━━━━━━━━━━━━━━━━━━━━━━━━━━━━━━━━━━━━━━┳━━━━━━━━━━━━━━━━━━━━━━━━━━━━━┳━━━━━━━━━━━━━━━━━┓\n",
       "┃\u001b[1m \u001b[0m\u001b[1mLayer (type)                        \u001b[0m\u001b[1m \u001b[0m┃\u001b[1m \u001b[0m\u001b[1mOutput Shape               \u001b[0m\u001b[1m \u001b[0m┃\u001b[1m \u001b[0m\u001b[1m        Param #\u001b[0m\u001b[1m \u001b[0m┃\n",
       "┡━━━━━━━━━━━━━━━━━━━━━━━━━━━━━━━━━━━━━━╇━━━━━━━━━━━━━━━━━━━━━━━━━━━━━╇━━━━━━━━━━━━━━━━━┩\n",
       "│ input_layer (\u001b[38;5;33mInputLayer\u001b[0m)             │ (\u001b[38;5;45mNone\u001b[0m, \u001b[38;5;34m512\u001b[0m, \u001b[38;5;34m1\u001b[0m)              │               \u001b[38;5;34m0\u001b[0m │\n",
       "├──────────────────────────────────────┼─────────────────────────────┼─────────────────┤\n",
       "│ conv1d (\u001b[38;5;33mConv1D\u001b[0m)                      │ (\u001b[38;5;45mNone\u001b[0m, \u001b[38;5;34m512\u001b[0m, \u001b[38;5;34m32\u001b[0m)             │             \u001b[38;5;34m192\u001b[0m │\n",
       "├──────────────────────────────────────┼─────────────────────────────┼─────────────────┤\n",
       "│ max_pooling1d (\u001b[38;5;33mMaxPooling1D\u001b[0m)         │ (\u001b[38;5;45mNone\u001b[0m, \u001b[38;5;34m256\u001b[0m, \u001b[38;5;34m32\u001b[0m)             │               \u001b[38;5;34m0\u001b[0m │\n",
       "├──────────────────────────────────────┼─────────────────────────────┼─────────────────┤\n",
       "│ conv1d_1 (\u001b[38;5;33mConv1D\u001b[0m)                    │ (\u001b[38;5;45mNone\u001b[0m, \u001b[38;5;34m256\u001b[0m, \u001b[38;5;34m64\u001b[0m)             │          \u001b[38;5;34m10,304\u001b[0m │\n",
       "├──────────────────────────────────────┼─────────────────────────────┼─────────────────┤\n",
       "│ max_pooling1d_1 (\u001b[38;5;33mMaxPooling1D\u001b[0m)       │ (\u001b[38;5;45mNone\u001b[0m, \u001b[38;5;34m128\u001b[0m, \u001b[38;5;34m64\u001b[0m)             │               \u001b[38;5;34m0\u001b[0m │\n",
       "├──────────────────────────────────────┼─────────────────────────────┼─────────────────┤\n",
       "│ conv1d_2 (\u001b[38;5;33mConv1D\u001b[0m)                    │ (\u001b[38;5;45mNone\u001b[0m, \u001b[38;5;34m128\u001b[0m, \u001b[38;5;34m64\u001b[0m)             │          \u001b[38;5;34m20,544\u001b[0m │\n",
       "├──────────────────────────────────────┼─────────────────────────────┼─────────────────┤\n",
       "│ up_sampling1d (\u001b[38;5;33mUpSampling1D\u001b[0m)         │ (\u001b[38;5;45mNone\u001b[0m, \u001b[38;5;34m256\u001b[0m, \u001b[38;5;34m64\u001b[0m)             │               \u001b[38;5;34m0\u001b[0m │\n",
       "├──────────────────────────────────────┼─────────────────────────────┼─────────────────┤\n",
       "│ conv1d_3 (\u001b[38;5;33mConv1D\u001b[0m)                    │ (\u001b[38;5;45mNone\u001b[0m, \u001b[38;5;34m256\u001b[0m, \u001b[38;5;34m32\u001b[0m)             │          \u001b[38;5;34m10,272\u001b[0m │\n",
       "├──────────────────────────────────────┼─────────────────────────────┼─────────────────┤\n",
       "│ up_sampling1d_1 (\u001b[38;5;33mUpSampling1D\u001b[0m)       │ (\u001b[38;5;45mNone\u001b[0m, \u001b[38;5;34m512\u001b[0m, \u001b[38;5;34m32\u001b[0m)             │               \u001b[38;5;34m0\u001b[0m │\n",
       "├──────────────────────────────────────┼─────────────────────────────┼─────────────────┤\n",
       "│ conv1d_4 (\u001b[38;5;33mConv1D\u001b[0m)                    │ (\u001b[38;5;45mNone\u001b[0m, \u001b[38;5;34m512\u001b[0m, \u001b[38;5;34m1\u001b[0m)              │             \u001b[38;5;34m161\u001b[0m │\n",
       "└──────────────────────────────────────┴─────────────────────────────┴─────────────────┘\n"
      ]
     },
     "metadata": {},
     "output_type": "display_data"
    },
    {
     "data": {
      "text/html": [
       "<pre style=\"white-space:pre;overflow-x:auto;line-height:normal;font-family:Menlo,'DejaVu Sans Mono',consolas,'Courier New',monospace\"><span style=\"font-weight: bold\"> Total params: </span><span style=\"color: #00af00; text-decoration-color: #00af00\">41,473</span> (162.00 KB)\n",
       "</pre>\n"
      ],
      "text/plain": [
       "\u001b[1m Total params: \u001b[0m\u001b[38;5;34m41,473\u001b[0m (162.00 KB)\n"
      ]
     },
     "metadata": {},
     "output_type": "display_data"
    },
    {
     "data": {
      "text/html": [
       "<pre style=\"white-space:pre;overflow-x:auto;line-height:normal;font-family:Menlo,'DejaVu Sans Mono',consolas,'Courier New',monospace\"><span style=\"font-weight: bold\"> Trainable params: </span><span style=\"color: #00af00; text-decoration-color: #00af00\">41,473</span> (162.00 KB)\n",
       "</pre>\n"
      ],
      "text/plain": [
       "\u001b[1m Trainable params: \u001b[0m\u001b[38;5;34m41,473\u001b[0m (162.00 KB)\n"
      ]
     },
     "metadata": {},
     "output_type": "display_data"
    },
    {
     "data": {
      "text/html": [
       "<pre style=\"white-space:pre;overflow-x:auto;line-height:normal;font-family:Menlo,'DejaVu Sans Mono',consolas,'Courier New',monospace\"><span style=\"font-weight: bold\"> Non-trainable params: </span><span style=\"color: #00af00; text-decoration-color: #00af00\">0</span> (0.00 B)\n",
       "</pre>\n"
      ],
      "text/plain": [
       "\u001b[1m Non-trainable params: \u001b[0m\u001b[38;5;34m0\u001b[0m (0.00 B)\n"
      ]
     },
     "metadata": {},
     "output_type": "display_data"
    }
   ],
   "source": [
    "# Section 4: Define 1D convolutional autoencoder\n",
    "\n",
    "input_signal = layers.Input(shape=(N_POINTS, 1))\n",
    "\n",
    "# Encoder\n",
    "x = layers.Conv1D(32, 5, activation='relu', padding='same')(input_signal)\n",
    "x = layers.MaxPooling1D(2)(x)\n",
    "x = layers.Conv1D(64, 5, activation='relu', padding='same')(x)\n",
    "encoded = layers.MaxPooling1D(2)(x)\n",
    "\n",
    "# Decoder\n",
    "x = layers.Conv1D(64, 5, activation='relu', padding='same')(encoded)\n",
    "x = layers.UpSampling1D(2)(x)\n",
    "x = layers.Conv1D(32, 5, activation='relu', padding='same')(x)\n",
    "x = layers.UpSampling1D(2)(x)\n",
    "decoded = layers.Conv1D(1, 5, activation='linear', padding='same')(x)\n",
    "\n",
    "autoencoder = models.Model(input_signal, decoded)\n",
    "autoencoder.compile(optimizer='adam', loss='mse')\n",
    "\n",
    "autoencoder.summary()"
   ]
  },
  {
   "cell_type": "code",
   "execution_count": 12,
   "id": "193d5c3c-965a-4e6c-ab6a-8b9229d5f788",
   "metadata": {},
   "outputs": [
    {
     "name": "stdout",
     "output_type": "stream",
     "text": [
      "Epoch 1/50\n",
      "\u001b[1m6/6\u001b[0m \u001b[32m━━━━━━━━━━━━━━━━━━━━\u001b[0m\u001b[37m\u001b[0m \u001b[1m0s\u001b[0m 28ms/step - loss: 1.2539e-05 - val_loss: 1.1938e-05\n",
      "Epoch 2/50\n",
      "\u001b[1m6/6\u001b[0m \u001b[32m━━━━━━━━━━━━━━━━━━━━\u001b[0m\u001b[37m\u001b[0m \u001b[1m0s\u001b[0m 18ms/step - loss: 1.1824e-05 - val_loss: 1.1260e-05\n",
      "Epoch 3/50\n",
      "\u001b[1m6/6\u001b[0m \u001b[32m━━━━━━━━━━━━━━━━━━━━\u001b[0m\u001b[37m\u001b[0m \u001b[1m0s\u001b[0m 17ms/step - loss: 1.1133e-05 - val_loss: 1.0624e-05\n",
      "Epoch 4/50\n",
      "\u001b[1m6/6\u001b[0m \u001b[32m━━━━━━━━━━━━━━━━━━━━\u001b[0m\u001b[37m\u001b[0m \u001b[1m0s\u001b[0m 19ms/step - loss: 1.0530e-05 - val_loss: 1.0032e-05\n",
      "Epoch 5/50\n",
      "\u001b[1m6/6\u001b[0m \u001b[32m━━━━━━━━━━━━━━━━━━━━\u001b[0m\u001b[37m\u001b[0m \u001b[1m0s\u001b[0m 20ms/step - loss: 9.9324e-06 - val_loss: 9.4774e-06\n",
      "Epoch 6/50\n",
      "\u001b[1m6/6\u001b[0m \u001b[32m━━━━━━━━━━━━━━━━━━━━\u001b[0m\u001b[37m\u001b[0m \u001b[1m0s\u001b[0m 15ms/step - loss: 9.3837e-06 - val_loss: 8.9615e-06\n",
      "Epoch 7/50\n",
      "\u001b[1m6/6\u001b[0m \u001b[32m━━━━━━━━━━━━━━━━━━━━\u001b[0m\u001b[37m\u001b[0m \u001b[1m0s\u001b[0m 16ms/step - loss: 8.8776e-06 - val_loss: 8.4838e-06\n",
      "Epoch 8/50\n",
      "\u001b[1m6/6\u001b[0m \u001b[32m━━━━━━━━━━━━━━━━━━━━\u001b[0m\u001b[37m\u001b[0m \u001b[1m0s\u001b[0m 19ms/step - loss: 8.3952e-06 - val_loss: 8.0311e-06\n",
      "Epoch 9/50\n",
      "\u001b[1m6/6\u001b[0m \u001b[32m━━━━━━━━━━━━━━━━━━━━\u001b[0m\u001b[37m\u001b[0m \u001b[1m0s\u001b[0m 17ms/step - loss: 7.9654e-06 - val_loss: 7.6288e-06\n",
      "Epoch 10/50\n",
      "\u001b[1m6/6\u001b[0m \u001b[32m━━━━━━━━━━━━━━━━━━━━\u001b[0m\u001b[37m\u001b[0m \u001b[1m0s\u001b[0m 16ms/step - loss: 7.5562e-06 - val_loss: 7.2268e-06\n",
      "Epoch 11/50\n",
      "\u001b[1m6/6\u001b[0m \u001b[32m━━━━━━━━━━━━━━━━━━━━\u001b[0m\u001b[37m\u001b[0m \u001b[1m0s\u001b[0m 15ms/step - loss: 7.1881e-06 - val_loss: 6.8659e-06\n",
      "Epoch 12/50\n",
      "\u001b[1m6/6\u001b[0m \u001b[32m━━━━━━━━━━━━━━━━━━━━\u001b[0m\u001b[37m\u001b[0m \u001b[1m0s\u001b[0m 17ms/step - loss: 6.8242e-06 - val_loss: 6.5282e-06\n",
      "Epoch 13/50\n",
      "\u001b[1m6/6\u001b[0m \u001b[32m━━━━━━━━━━━━━━━━━━━━\u001b[0m\u001b[37m\u001b[0m \u001b[1m0s\u001b[0m 17ms/step - loss: 6.4739e-06 - val_loss: 6.2179e-06\n",
      "Epoch 14/50\n",
      "\u001b[1m6/6\u001b[0m \u001b[32m━━━━━━━━━━━━━━━━━━━━\u001b[0m\u001b[37m\u001b[0m \u001b[1m0s\u001b[0m 19ms/step - loss: 6.1600e-06 - val_loss: 5.9239e-06\n",
      "Epoch 15/50\n",
      "\u001b[1m6/6\u001b[0m \u001b[32m━━━━━━━━━━━━━━━━━━━━\u001b[0m\u001b[37m\u001b[0m \u001b[1m0s\u001b[0m 15ms/step - loss: 5.8856e-06 - val_loss: 5.6543e-06\n",
      "Epoch 16/50\n",
      "\u001b[1m6/6\u001b[0m \u001b[32m━━━━━━━━━━━━━━━━━━━━\u001b[0m\u001b[37m\u001b[0m \u001b[1m0s\u001b[0m 22ms/step - loss: 5.6182e-06 - val_loss: 5.4101e-06\n",
      "Epoch 17/50\n",
      "\u001b[1m6/6\u001b[0m \u001b[32m━━━━━━━━━━━━━━━━━━━━\u001b[0m\u001b[37m\u001b[0m \u001b[1m0s\u001b[0m 19ms/step - loss: 5.3870e-06 - val_loss: 5.1712e-06\n",
      "Epoch 18/50\n",
      "\u001b[1m6/6\u001b[0m \u001b[32m━━━━━━━━━━━━━━━━━━━━\u001b[0m\u001b[37m\u001b[0m \u001b[1m0s\u001b[0m 16ms/step - loss: 5.1582e-06 - val_loss: 4.9504e-06\n",
      "Epoch 19/50\n",
      "\u001b[1m6/6\u001b[0m \u001b[32m━━━━━━━━━━━━━━━━━━━━\u001b[0m\u001b[37m\u001b[0m \u001b[1m0s\u001b[0m 19ms/step - loss: 4.9364e-06 - val_loss: 4.7431e-06\n",
      "Epoch 20/50\n",
      "\u001b[1m6/6\u001b[0m \u001b[32m━━━━━━━━━━━━━━━━━━━━\u001b[0m\u001b[37m\u001b[0m \u001b[1m0s\u001b[0m 16ms/step - loss: 4.7217e-06 - val_loss: 4.5542e-06\n",
      "Epoch 21/50\n",
      "\u001b[1m6/6\u001b[0m \u001b[32m━━━━━━━━━━━━━━━━━━━━\u001b[0m\u001b[37m\u001b[0m \u001b[1m0s\u001b[0m 16ms/step - loss: 4.5632e-06 - val_loss: 4.3767e-06\n",
      "Epoch 22/50\n",
      "\u001b[1m6/6\u001b[0m \u001b[32m━━━━━━━━━━━━━━━━━━━━\u001b[0m\u001b[37m\u001b[0m \u001b[1m0s\u001b[0m 19ms/step - loss: 4.3497e-06 - val_loss: 4.2189e-06\n",
      "Epoch 23/50\n",
      "\u001b[1m6/6\u001b[0m \u001b[32m━━━━━━━━━━━━━━━━━━━━\u001b[0m\u001b[37m\u001b[0m \u001b[1m0s\u001b[0m 16ms/step - loss: 4.2230e-06 - val_loss: 4.0585e-06\n",
      "Epoch 24/50\n",
      "\u001b[1m6/6\u001b[0m \u001b[32m━━━━━━━━━━━━━━━━━━━━\u001b[0m\u001b[37m\u001b[0m \u001b[1m0s\u001b[0m 16ms/step - loss: 4.0942e-06 - val_loss: 3.9111e-06\n",
      "Epoch 25/50\n",
      "\u001b[1m6/6\u001b[0m \u001b[32m━━━━━━━━━━━━━━━━━━━━\u001b[0m\u001b[37m\u001b[0m \u001b[1m0s\u001b[0m 19ms/step - loss: 3.9120e-06 - val_loss: 3.7762e-06\n",
      "Epoch 26/50\n",
      "\u001b[1m6/6\u001b[0m \u001b[32m━━━━━━━━━━━━━━━━━━━━\u001b[0m\u001b[37m\u001b[0m \u001b[1m0s\u001b[0m 16ms/step - loss: 3.7976e-06 - val_loss: 3.6468e-06\n",
      "Epoch 27/50\n",
      "\u001b[1m6/6\u001b[0m \u001b[32m━━━━━━━━━━━━━━━━━━━━\u001b[0m\u001b[37m\u001b[0m \u001b[1m0s\u001b[0m 19ms/step - loss: 3.6690e-06 - val_loss: 3.5305e-06\n",
      "Epoch 28/50\n",
      "\u001b[1m6/6\u001b[0m \u001b[32m━━━━━━━━━━━━━━━━━━━━\u001b[0m\u001b[37m\u001b[0m \u001b[1m0s\u001b[0m 19ms/step - loss: 3.5164e-06 - val_loss: 3.4153e-06\n",
      "Epoch 29/50\n",
      "\u001b[1m6/6\u001b[0m \u001b[32m━━━━━━━━━━━━━━━━━━━━\u001b[0m\u001b[37m\u001b[0m \u001b[1m0s\u001b[0m 18ms/step - loss: 3.4366e-06 - val_loss: 3.3132e-06\n",
      "Epoch 30/50\n",
      "\u001b[1m6/6\u001b[0m \u001b[32m━━━━━━━━━━━━━━━━━━━━\u001b[0m\u001b[37m\u001b[0m \u001b[1m0s\u001b[0m 19ms/step - loss: 3.2949e-06 - val_loss: 3.2296e-06\n",
      "Epoch 31/50\n",
      "\u001b[1m6/6\u001b[0m \u001b[32m━━━━━━━━━━━━━━━━━━━━\u001b[0m\u001b[37m\u001b[0m \u001b[1m0s\u001b[0m 17ms/step - loss: 3.2793e-06 - val_loss: 3.1387e-06\n",
      "Epoch 32/50\n",
      "\u001b[1m6/6\u001b[0m \u001b[32m━━━━━━━━━━━━━━━━━━━━\u001b[0m\u001b[37m\u001b[0m \u001b[1m0s\u001b[0m 16ms/step - loss: 3.1432e-06 - val_loss: 3.0351e-06\n",
      "Epoch 33/50\n",
      "\u001b[1m6/6\u001b[0m \u001b[32m━━━━━━━━━━━━━━━━━━━━\u001b[0m\u001b[37m\u001b[0m \u001b[1m0s\u001b[0m 16ms/step - loss: 3.0540e-06 - val_loss: 2.9520e-06\n",
      "Epoch 34/50\n",
      "\u001b[1m6/6\u001b[0m \u001b[32m━━━━━━━━━━━━━━━━━━━━\u001b[0m\u001b[37m\u001b[0m \u001b[1m0s\u001b[0m 17ms/step - loss: 2.9530e-06 - val_loss: 2.8800e-06\n",
      "Epoch 35/50\n",
      "\u001b[1m6/6\u001b[0m \u001b[32m━━━━━━━━━━━━━━━━━━━━\u001b[0m\u001b[37m\u001b[0m \u001b[1m0s\u001b[0m 16ms/step - loss: 2.8772e-06 - val_loss: 2.8000e-06\n",
      "Epoch 36/50\n",
      "\u001b[1m6/6\u001b[0m \u001b[32m━━━━━━━━━━━━━━━━━━━━\u001b[0m\u001b[37m\u001b[0m \u001b[1m0s\u001b[0m 19ms/step - loss: 2.8010e-06 - val_loss: 2.7304e-06\n",
      "Epoch 37/50\n",
      "\u001b[1m6/6\u001b[0m \u001b[32m━━━━━━━━━━━━━━━━━━━━\u001b[0m\u001b[37m\u001b[0m \u001b[1m0s\u001b[0m 22ms/step - loss: 2.7549e-06 - val_loss: 2.6655e-06\n",
      "Epoch 38/50\n",
      "\u001b[1m6/6\u001b[0m \u001b[32m━━━━━━━━━━━━━━━━━━━━\u001b[0m\u001b[37m\u001b[0m \u001b[1m0s\u001b[0m 25ms/step - loss: 2.6593e-06 - val_loss: 2.6001e-06\n",
      "Epoch 39/50\n",
      "\u001b[1m6/6\u001b[0m \u001b[32m━━━━━━━━━━━━━━━━━━━━\u001b[0m\u001b[37m\u001b[0m \u001b[1m0s\u001b[0m 21ms/step - loss: 2.6143e-06 - val_loss: 2.5428e-06\n",
      "Epoch 40/50\n",
      "\u001b[1m6/6\u001b[0m \u001b[32m━━━━━━━━━━━━━━━━━━━━\u001b[0m\u001b[37m\u001b[0m \u001b[1m0s\u001b[0m 22ms/step - loss: 2.5633e-06 - val_loss: 2.5084e-06\n",
      "Epoch 41/50\n",
      "\u001b[1m6/6\u001b[0m \u001b[32m━━━━━━━━━━━━━━━━━━━━\u001b[0m\u001b[37m\u001b[0m \u001b[1m0s\u001b[0m 19ms/step - loss: 2.5236e-06 - val_loss: 2.4311e-06\n",
      "Epoch 42/50\n",
      "\u001b[1m6/6\u001b[0m \u001b[32m━━━━━━━━━━━━━━━━━━━━\u001b[0m\u001b[37m\u001b[0m \u001b[1m0s\u001b[0m 19ms/step - loss: 2.4469e-06 - val_loss: 2.3783e-06\n",
      "Epoch 43/50\n",
      "\u001b[1m6/6\u001b[0m \u001b[32m━━━━━━━━━━━━━━━━━━━━\u001b[0m\u001b[37m\u001b[0m \u001b[1m0s\u001b[0m 21ms/step - loss: 2.4210e-06 - val_loss: 2.3349e-06\n",
      "Epoch 44/50\n",
      "\u001b[1m6/6\u001b[0m \u001b[32m━━━━━━━━━━━━━━━━━━━━\u001b[0m\u001b[37m\u001b[0m \u001b[1m0s\u001b[0m 17ms/step - loss: 2.3322e-06 - val_loss: 2.2919e-06\n",
      "Epoch 45/50\n",
      "\u001b[1m6/6\u001b[0m \u001b[32m━━━━━━━━━━━━━━━━━━━━\u001b[0m\u001b[37m\u001b[0m \u001b[1m0s\u001b[0m 17ms/step - loss: 2.2861e-06 - val_loss: 2.2360e-06\n",
      "Epoch 46/50\n",
      "\u001b[1m6/6\u001b[0m \u001b[32m━━━━━━━━━━━━━━━━━━━━\u001b[0m\u001b[37m\u001b[0m \u001b[1m0s\u001b[0m 18ms/step - loss: 2.2482e-06 - val_loss: 2.1926e-06\n",
      "Epoch 47/50\n",
      "\u001b[1m6/6\u001b[0m \u001b[32m━━━━━━━━━━━━━━━━━━━━\u001b[0m\u001b[37m\u001b[0m \u001b[1m0s\u001b[0m 20ms/step - loss: 2.2010e-06 - val_loss: 2.1498e-06\n",
      "Epoch 48/50\n",
      "\u001b[1m6/6\u001b[0m \u001b[32m━━━━━━━━━━━━━━━━━━━━\u001b[0m\u001b[37m\u001b[0m \u001b[1m0s\u001b[0m 19ms/step - loss: 2.1627e-06 - val_loss: 2.1145e-06\n",
      "Epoch 49/50\n",
      "\u001b[1m6/6\u001b[0m \u001b[32m━━━━━━━━━━━━━━━━━━━━\u001b[0m\u001b[37m\u001b[0m \u001b[1m0s\u001b[0m 19ms/step - loss: 2.1482e-06 - val_loss: 2.0885e-06\n",
      "Epoch 50/50\n",
      "\u001b[1m6/6\u001b[0m \u001b[32m━━━━━━━━━━━━━━━━━━━━\u001b[0m\u001b[37m\u001b[0m \u001b[1m0s\u001b[0m 21ms/step - loss: 2.1005e-06 - val_loss: 2.0407e-06\n"
     ]
    }
   ],
   "source": [
    "# Section 5: Train autoencoder\n",
    "\n",
    "history = autoencoder.fit(X_data, X_data,\n",
    "                          epochs=50,\n",
    "                          batch_size=16,\n",
    "                          validation_split=0.1)\n",
    "autoencoder.save(\"../models/autoencoder.keras\")"
   ]
  },
  {
   "cell_type": "code",
   "execution_count": 13,
   "id": "17dda313-b7f6-4e33-8fb0-0fb3a0f337b6",
   "metadata": {},
   "outputs": [
    {
     "name": "stdout",
     "output_type": "stream",
     "text": [
      "\u001b[1m1/1\u001b[0m \u001b[32m━━━━━━━━━━━━━━━━━━━━\u001b[0m\u001b[37m\u001b[0m \u001b[1m0s\u001b[0m 157ms/step\n"
     ]
    },
    {
     "data": {
      "image/png": "[encoded data removed]",
      "text/plain": [
       "<Figure size 1200x400 with 3 Axes>"
      ]
     },
     "metadata": {},
     "output_type": "display_data"
    }
   ],
   "source": [
    "# Section 6: Visualize reconstruction and compute error\n",
    "\n",
    "def plot_reconstruction(idx):\n",
    "    original = X_data[idx].squeeze()\n",
    "    reconstructed = autoencoder.predict(X_data[idx:idx+1])[0].squeeze()\n",
    "\n",
    "    error = np.abs(original - reconstructed)\n",
    "\n",
    "    plt.figure(figsize=(12, 4))\n",
    "    plt.subplot(1, 3, 1)\n",
    "    plt.plot(original, label=\"Original\")\n",
    "    plt.title(\"Original curve\")\n",
    "\n",
    "    plt.subplot(1, 3, 2)\n",
    "    plt.plot(reconstructed, label=\"Reconstructed\")\n",
    "    plt.title(\"Reconstructed curve\")\n",
    "\n",
    "    plt.subplot(1, 3, 3)\n",
    "    plt.plot(error, label=\"Error\")\n",
    "    plt.title(\"Reconstruction error\")\n",
    "\n",
    "    plt.tight_layout()\n",
    "    plt.show()\n",
    "\n",
    "# Try with a few curves\n",
    "plot_reconstruction(0)"
   ]
  },
  {
   "cell_type": "code",
   "execution_count": 16,
   "id": "f3b24913-2f1b-42ec-b478-13f9db1c2600",
   "metadata": {},
   "outputs": [],
   "source": [
    "import pandas as pd\n",
    "import numpy as np\n",
    "import matplotlib.pyplot as plt\n",
    "from scipy.interpolate import interp1d\n",
    "from tensorflow.keras.models import load_model\n",
    "\n",
    "FILE_PATH = \"../data/nanoindentation_curves/evaluation_data.xlsx\"\n",
    "\n",
    "def load_curves_from_excel(file_path):\n",
    "    xl = pd.ExcelFile(file_path)\n",
    "    results = []\n",
    "\n",
    "    for sheet in xl.sheet_names:\n",
    "        if not sheet.lower().startswith(\"test\"):\n",
    "            continue\n",
    "\n",
    "        try:\n",
    "            # Carica il foglio saltando la riga delle unità (seconda riga, indice 1)\n",
    "            df = xl.parse(sheet, skiprows=[1])\n",
    "            df.columns = df.columns.str.strip()  # rimuove spazi nei nomi delle colonne\n",
    "\n",
    "            marker_col = df.columns[0]\n",
    "            df[marker_col] = df[marker_col].astype(str).str.strip()\n",
    "\n",
    "            if not df[marker_col].str.contains(\"Surface Index\").any():\n",
    "                continue\n",
    "            if not df[marker_col].str.contains(\"End Of Loading Index\").any():\n",
    "                continue\n",
    "\n",
    "            i_start = df[df[marker_col].str.contains(\"Surface Index\")].index[0]\n",
    "            i_end = df[df[marker_col].str.contains(\"End Of Loading Index\")].index[0]\n",
    "            if i_end <= i_start:\n",
    "                continue\n",
    "\n",
    "            df_curve = df.loc[i_start:i_end].copy()\n",
    "\n",
    "            # Conversione a float e gestione colonne\n",
    "            df_curve[\"DEPTH\"] = df_curve[\"DEPTH\"].astype(float)\n",
    "            df_curve[\"LOAD\"] = df_curve[\"LOAD\"].astype(float)\n",
    "\n",
    "            depth = df_curve[\"DEPTH\"].values\n",
    "            load = df_curve[\"LOAD\"].values\n",
    "            time = df_curve[\"Time On Sample\"].astype(float).values\n",
    "\n",
    "            results.append((sheet, depth, load, time))\n",
    "\n",
    "        except Exception as e:\n",
    "            print(f\"Error processing sheet {sheet}: {e}\")\n",
    "            continue\n",
    "\n",
    "    return results"
   ]
  },
  {
   "cell_type": "code",
   "execution_count": 17,
   "id": "3c066bc0-138b-4a1f-bd52-be8d27ca8d0a",
   "metadata": {},
   "outputs": [
    {
     "name": "stdout",
     "output_type": "stream",
     "text": [
      "Loaded 400 curves\n",
      "Sheet: Test 1\n",
      "Depth shape: (509,)\n",
      "Load shape: (509,)\n",
      "Time shape: (509,)\n"
     ]
    }
   ],
   "source": [
    "curves = load_curves_from_excel(\"../data/nanoindentation_curves/evaluation_data.xlsx\")\n",
    "print(f\"Loaded {len(curves)} curves\")\n",
    "\n",
    "# Verifica struttura prima curva\n",
    "sheet, depth, load, time = curves[0]\n",
    "print(\"Sheet:\", sheet)\n",
    "print(\"Depth shape:\", depth.shape)\n",
    "print(\"Load shape:\", load.shape)\n",
    "print(\"Time shape:\", time.shape)"
   ]
  },
  {
   "cell_type": "code",
   "execution_count": 9,
   "id": "99123dcb-209c-458f-9d12-d84deec853ba",
   "metadata": {},
   "outputs": [],
   "source": [
    "from scipy.signal import savgol_filter\n",
    "\n",
    "N_POINTS = 512\n",
    "\n",
    "def normalize_and_interpolate(depth, load, time, n_points=N_POINTS):\n",
    "    sorted_idx = np.argsort(depth)\n",
    "    depth = depth[sorted_idx]\n",
    "    load = load[sorted_idx]\n",
    "    time = time[sorted_idx]\n",
    "\n",
    "    new_depth = np.linspace(np.min(depth), np.max(depth), n_points)\n",
    "\n",
    "    interp_load = interp1d(depth, load, kind='linear', fill_value=\"extrapolate\")(new_depth)\n",
    "    interp_time = interp1d(depth, time, kind='linear', fill_value=\"extrapolate\")(new_depth)\n",
    "\n",
    "    norm_load = (interp_load - np.mean(interp_load)) / np.std(interp_load)\n",
    "    return norm_load, interp_time"
   ]
  },
  {
   "cell_type": "code",
   "execution_count": 18,
   "id": "3c36ebf7-74d5-4d9b-8a76-9d783e0b6263",
   "metadata": {},
   "outputs": [
    {
     "data": {
      "text/html": [
       "<pre style=\"white-space:pre;overflow-x:auto;line-height:normal;font-family:Menlo,'DejaVu Sans Mono',consolas,'Courier New',monospace\"><span style=\"font-weight: bold\">Model: \"functional\"</span>\n",
       "</pre>\n"
      ],
      "text/plain": [
       "\u001b[1mModel: \"functional\"\u001b[0m\n"
      ]
     },
     "metadata": {},
     "output_type": "display_data"
    },
    {
     "data": {
      "text/html": [
       "<pre style=\"white-space:pre;overflow-x:auto;line-height:normal;font-family:Menlo,'DejaVu Sans Mono',consolas,'Courier New',monospace\">┏━━━━━━━━━━━━━━━━━━━━━━━━━━━━━━━━━━━━━━┳━━━━━━━━━━━━━━━━━━━━━━━━━━━━━┳━━━━━━━━━━━━━━━━━┓\n",
       "┃<span style=\"font-weight: bold\"> Layer (type)                         </span>┃<span style=\"font-weight: bold\"> Output Shape                </span>┃<span style=\"font-weight: bold\">         Param # </span>┃\n",
       "┡━━━━━━━━━━━━━━━━━━━━━━━━━━━━━━━━━━━━━━╇━━━━━━━━━━━━━━━━━━━━━━━━━━━━━╇━━━━━━━━━━━━━━━━━┩\n",
       "│ input_layer (<span style=\"color: #0087ff; text-decoration-color: #0087ff\">InputLayer</span>)             │ (<span style=\"color: #00d7ff; text-decoration-color: #00d7ff\">None</span>, <span style=\"color: #00af00; text-decoration-color: #00af00\">512</span>, <span style=\"color: #00af00; text-decoration-color: #00af00\">1</span>)              │               <span style=\"color: #00af00; text-decoration-color: #00af00\">0</span> │\n",
       "├──────────────────────────────────────┼─────────────────────────────┼─────────────────┤\n",
       "│ conv1d (<span style=\"color: #0087ff; text-decoration-color: #0087ff\">Conv1D</span>)                      │ (<span style=\"color: #00d7ff; text-decoration-color: #00d7ff\">None</span>, <span style=\"color: #00af00; text-decoration-color: #00af00\">512</span>, <span style=\"color: #00af00; text-decoration-color: #00af00\">32</span>)             │             <span style=\"color: #00af00; text-decoration-color: #00af00\">192</span> │\n",
       "├──────────────────────────────────────┼─────────────────────────────┼─────────────────┤\n",
       "│ max_pooling1d (<span style=\"color: #0087ff; text-decoration-color: #0087ff\">MaxPooling1D</span>)         │ (<span style=\"color: #00d7ff; text-decoration-color: #00d7ff\">None</span>, <span style=\"color: #00af00; text-decoration-color: #00af00\">256</span>, <span style=\"color: #00af00; text-decoration-color: #00af00\">32</span>)             │               <span style=\"color: #00af00; text-decoration-color: #00af00\">0</span> │\n",
       "├──────────────────────────────────────┼─────────────────────────────┼─────────────────┤\n",
       "│ conv1d_1 (<span style=\"color: #0087ff; text-decoration-color: #0087ff\">Conv1D</span>)                    │ (<span style=\"color: #00d7ff; text-decoration-color: #00d7ff\">None</span>, <span style=\"color: #00af00; text-decoration-color: #00af00\">256</span>, <span style=\"color: #00af00; text-decoration-color: #00af00\">64</span>)             │          <span style=\"color: #00af00; text-decoration-color: #00af00\">10,304</span> │\n",
       "├──────────────────────────────────────┼─────────────────────────────┼─────────────────┤\n",
       "│ max_pooling1d_1 (<span style=\"color: #0087ff; text-decoration-color: #0087ff\">MaxPooling1D</span>)       │ (<span style=\"color: #00d7ff; text-decoration-color: #00d7ff\">None</span>, <span style=\"color: #00af00; text-decoration-color: #00af00\">128</span>, <span style=\"color: #00af00; text-decoration-color: #00af00\">64</span>)             │               <span style=\"color: #00af00; text-decoration-color: #00af00\">0</span> │\n",
       "├──────────────────────────────────────┼─────────────────────────────┼─────────────────┤\n",
       "│ conv1d_2 (<span style=\"color: #0087ff; text-decoration-color: #0087ff\">Conv1D</span>)                    │ (<span style=\"color: #00d7ff; text-decoration-color: #00d7ff\">None</span>, <span style=\"color: #00af00; text-decoration-color: #00af00\">128</span>, <span style=\"color: #00af00; text-decoration-color: #00af00\">64</span>)             │          <span style=\"color: #00af00; text-decoration-color: #00af00\">20,544</span> │\n",
       "├──────────────────────────────────────┼─────────────────────────────┼─────────────────┤\n",
       "│ up_sampling1d (<span style=\"color: #0087ff; text-decoration-color: #0087ff\">UpSampling1D</span>)         │ (<span style=\"color: #00d7ff; text-decoration-color: #00d7ff\">None</span>, <span style=\"color: #00af00; text-decoration-color: #00af00\">256</span>, <span style=\"color: #00af00; text-decoration-color: #00af00\">64</span>)             │               <span style=\"color: #00af00; text-decoration-color: #00af00\">0</span> │\n",
       "├──────────────────────────────────────┼─────────────────────────────┼─────────────────┤\n",
       "│ conv1d_3 (<span style=\"color: #0087ff; text-decoration-color: #0087ff\">Conv1D</span>)                    │ (<span style=\"color: #00d7ff; text-decoration-color: #00d7ff\">None</span>, <span style=\"color: #00af00; text-decoration-color: #00af00\">256</span>, <span style=\"color: #00af00; text-decoration-color: #00af00\">32</span>)             │          <span style=\"color: #00af00; text-decoration-color: #00af00\">10,272</span> │\n",
       "├──────────────────────────────────────┼─────────────────────────────┼─────────────────┤\n",
       "│ up_sampling1d_1 (<span style=\"color: #0087ff; text-decoration-color: #0087ff\">UpSampling1D</span>)       │ (<span style=\"color: #00d7ff; text-decoration-color: #00d7ff\">None</span>, <span style=\"color: #00af00; text-decoration-color: #00af00\">512</span>, <span style=\"color: #00af00; text-decoration-color: #00af00\">32</span>)             │               <span style=\"color: #00af00; text-decoration-color: #00af00\">0</span> │\n",
       "├──────────────────────────────────────┼─────────────────────────────┼─────────────────┤\n",
       "│ conv1d_4 (<span style=\"color: #0087ff; text-decoration-color: #0087ff\">Conv1D</span>)                    │ (<span style=\"color: #00d7ff; text-decoration-color: #00d7ff\">None</span>, <span style=\"color: #00af00; text-decoration-color: #00af00\">512</span>, <span style=\"color: #00af00; text-decoration-color: #00af00\">1</span>)              │             <span style=\"color: #00af00; text-decoration-color: #00af00\">161</span> │\n",
       "└──────────────────────────────────────┴─────────────────────────────┴─────────────────┘\n",
       "</pre>\n"
      ],
      "text/plain": [
       "┏━━━━━━━━━━━━━━━━━━━━━━━━━━━━━━━━━━━━━━┳━━━━━━━━━━━━━━━━━━━━━━━━━━━━━┳━━━━━━━━━━━━━━━━━┓\n",
       "┃\u001b[1m \u001b[0m\u001b[1mLayer (type)                        \u001b[0m\u001b[1m \u001b[0m┃\u001b[1m \u001b[0m\u001b[1mOutput Shape               \u001b[0m\u001b[1m \u001b[0m┃\u001b[1m \u001b[0m\u001b[1m        Param #\u001b[0m\u001b[1m \u001b[0m┃\n",
       "┡━━━━━━━━━━━━━━━━━━━━━━━━━━━━━━━━━━━━━━╇━━━━━━━━━━━━━━━━━━━━━━━━━━━━━╇━━━━━━━━━━━━━━━━━┩\n",
       "│ input_layer (\u001b[38;5;33mInputLayer\u001b[0m)             │ (\u001b[38;5;45mNone\u001b[0m, \u001b[38;5;34m512\u001b[0m, \u001b[38;5;34m1\u001b[0m)              │               \u001b[38;5;34m0\u001b[0m │\n",
       "├──────────────────────────────────────┼─────────────────────────────┼─────────────────┤\n",
       "│ conv1d (\u001b[38;5;33mConv1D\u001b[0m)                      │ (\u001b[38;5;45mNone\u001b[0m, \u001b[38;5;34m512\u001b[0m, \u001b[38;5;34m32\u001b[0m)             │             \u001b[38;5;34m192\u001b[0m │\n",
       "├──────────────────────────────────────┼─────────────────────────────┼─────────────────┤\n",
       "│ max_pooling1d (\u001b[38;5;33mMaxPooling1D\u001b[0m)         │ (\u001b[38;5;45mNone\u001b[0m, \u001b[38;5;34m256\u001b[0m, \u001b[38;5;34m32\u001b[0m)             │               \u001b[38;5;34m0\u001b[0m │\n",
       "├──────────────────────────────────────┼─────────────────────────────┼─────────────────┤\n",
       "│ conv1d_1 (\u001b[38;5;33mConv1D\u001b[0m)                    │ (\u001b[38;5;45mNone\u001b[0m, \u001b[38;5;34m256\u001b[0m, \u001b[38;5;34m64\u001b[0m)             │          \u001b[38;5;34m10,304\u001b[0m │\n",
       "├──────────────────────────────────────┼─────────────────────────────┼─────────────────┤\n",
       "│ max_pooling1d_1 (\u001b[38;5;33mMaxPooling1D\u001b[0m)       │ (\u001b[38;5;45mNone\u001b[0m, \u001b[38;5;34m128\u001b[0m, \u001b[38;5;34m64\u001b[0m)             │               \u001b[38;5;34m0\u001b[0m │\n",
       "├──────────────────────────────────────┼─────────────────────────────┼─────────────────┤\n",
       "│ conv1d_2 (\u001b[38;5;33mConv1D\u001b[0m)                    │ (\u001b[38;5;45mNone\u001b[0m, \u001b[38;5;34m128\u001b[0m, \u001b[38;5;34m64\u001b[0m)             │          \u001b[38;5;34m20,544\u001b[0m │\n",
       "├──────────────────────────────────────┼─────────────────────────────┼─────────────────┤\n",
       "│ up_sampling1d (\u001b[38;5;33mUpSampling1D\u001b[0m)         │ (\u001b[38;5;45mNone\u001b[0m, \u001b[38;5;34m256\u001b[0m, \u001b[38;5;34m64\u001b[0m)             │               \u001b[38;5;34m0\u001b[0m │\n",
       "├──────────────────────────────────────┼─────────────────────────────┼─────────────────┤\n",
       "│ conv1d_3 (\u001b[38;5;33mConv1D\u001b[0m)                    │ (\u001b[38;5;45mNone\u001b[0m, \u001b[38;5;34m256\u001b[0m, \u001b[38;5;34m32\u001b[0m)             │          \u001b[38;5;34m10,272\u001b[0m │\n",
       "├──────────────────────────────────────┼─────────────────────────────┼─────────────────┤\n",
       "│ up_sampling1d_1 (\u001b[38;5;33mUpSampling1D\u001b[0m)       │ (\u001b[38;5;45mNone\u001b[0m, \u001b[38;5;34m512\u001b[0m, \u001b[38;5;34m32\u001b[0m)             │               \u001b[38;5;34m0\u001b[0m │\n",
       "├──────────────────────────────────────┼─────────────────────────────┼─────────────────┤\n",
       "│ conv1d_4 (\u001b[38;5;33mConv1D\u001b[0m)                    │ (\u001b[38;5;45mNone\u001b[0m, \u001b[38;5;34m512\u001b[0m, \u001b[38;5;34m1\u001b[0m)              │             \u001b[38;5;34m161\u001b[0m │\n",
       "└──────────────────────────────────────┴─────────────────────────────┴─────────────────┘\n"
      ]
     },
     "metadata": {},
     "output_type": "display_data"
    },
    {
     "data": {
      "text/html": [
       "<pre style=\"white-space:pre;overflow-x:auto;line-height:normal;font-family:Menlo,'DejaVu Sans Mono',consolas,'Courier New',monospace\"><span style=\"font-weight: bold\"> Total params: </span><span style=\"color: #00af00; text-decoration-color: #00af00\">124,421</span> (486.02 KB)\n",
       "</pre>\n"
      ],
      "text/plain": [
       "\u001b[1m Total params: \u001b[0m\u001b[38;5;34m124,421\u001b[0m (486.02 KB)\n"
      ]
     },
     "metadata": {},
     "output_type": "display_data"
    },
    {
     "data": {
      "text/html": [
       "<pre style=\"white-space:pre;overflow-x:auto;line-height:normal;font-family:Menlo,'DejaVu Sans Mono',consolas,'Courier New',monospace\"><span style=\"font-weight: bold\"> Trainable params: </span><span style=\"color: #00af00; text-decoration-color: #00af00\">41,473</span> (162.00 KB)\n",
       "</pre>\n"
      ],
      "text/plain": [
       "\u001b[1m Trainable params: \u001b[0m\u001b[38;5;34m41,473\u001b[0m (162.00 KB)\n"
      ]
     },
     "metadata": {},
     "output_type": "display_data"
    },
    {
     "data": {
      "text/html": [
       "<pre style=\"white-space:pre;overflow-x:auto;line-height:normal;font-family:Menlo,'DejaVu Sans Mono',consolas,'Courier New',monospace\"><span style=\"font-weight: bold\"> Non-trainable params: </span><span style=\"color: #00af00; text-decoration-color: #00af00\">0</span> (0.00 B)\n",
       "</pre>\n"
      ],
      "text/plain": [
       "\u001b[1m Non-trainable params: \u001b[0m\u001b[38;5;34m0\u001b[0m (0.00 B)\n"
      ]
     },
     "metadata": {},
     "output_type": "display_data"
    },
    {
     "data": {
      "text/html": [
       "<pre style=\"white-space:pre;overflow-x:auto;line-height:normal;font-family:Menlo,'DejaVu Sans Mono',consolas,'Courier New',monospace\"><span style=\"font-weight: bold\"> Optimizer params: </span><span style=\"color: #00af00; text-decoration-color: #00af00\">82,948</span> (324.02 KB)\n",
       "</pre>\n"
      ],
      "text/plain": [
       "\u001b[1m Optimizer params: \u001b[0m\u001b[38;5;34m82,948\u001b[0m (324.02 KB)\n"
      ]
     },
     "metadata": {},
     "output_type": "display_data"
    }
   ],
   "source": [
    "# Load previously trained autoencoder model\n",
    "MODEL_PATH = \"../models/autoencoder.keras\"\n",
    "autoencoder = load_model(MODEL_PATH)\n",
    "autoencoder.summary()"
   ]
  },
  {
   "cell_type": "code",
   "execution_count": 19,
   "id": "1b586cac-2dc7-4be5-9850-0e72c3bf498f",
   "metadata": {},
   "outputs": [],
   "source": [
    "results = []\n",
    "\n",
    "ERROR_THRESHOLD = 0.02  # soglia fissa\n",
    "DEPTH_MIN = 20          # nm\n",
    "DEPTH_MAX_FRAC = 0.95    # percentuale della max depth\n",
    "\n",
    "results = []\n",
    "\n",
    "for sheet, depth, load, time in curves:\n",
    "    norm_curve, time_interp = normalize_and_interpolate(depth, load, time)\n",
    "    inp = norm_curve.reshape(1, -1, 1)\n",
    "    recon = autoencoder.predict(inp, verbose=0)[0].squeeze()\n",
    "    error = np.abs(norm_curve - recon)\n",
    "\n",
    "    # Ricostruzione della profondità interpolata\n",
    "    sorted_idx = np.argsort(depth)\n",
    "    depth_sorted = depth[sorted_idx]\n",
    "    depth_interp = np.linspace(np.min(depth_sorted), np.max(depth_sorted), len(norm_curve))\n",
    "\n",
    "    # Maschera per intervallo depth fidato\n",
    "    mask = (depth_interp > DEPTH_MIN) & (depth_interp < DEPTH_MAX_FRAC * np.max(depth_interp))\n",
    "\n",
    "    # Applica soglia fissa sull'intervallo fidato\n",
    "    popin_idx = np.where((error > ERROR_THRESHOLD) & mask)[0]\n",
    "\n",
    "    results.append({\n",
    "        \"sheet\": sheet,\n",
    "        \"curve\": norm_curve,\n",
    "        \"reconstruction\": recon,\n",
    "        \"error\": error,\n",
    "        \"depth_interp\": depth_interp,\n",
    "        \"popin_idx\": popin_idx,\n",
    "        \"threshold\": ERROR_THRESHOLD\n",
    "    })"
   ]
  },
  {
   "cell_type": "code",
   "execution_count": 20,
   "id": "acd044ba-1453-4df8-aa6b-f792818d42a9",
   "metadata": {},
   "outputs": [
    {
     "data": {
      "application/vnd.jupyter.widget-view+json": {
       "model_id": "7c020199d55844278a9636d5853b0e32",
       "version_major": 2,
       "version_minor": 0
      },
      "text/plain": [
       "interactive(children=(IntSlider(value=0, continuous_update=False, description='Curve:', max=399), Output()), _…"
      ]
     },
     "metadata": {},
     "output_type": "display_data"
    }
   ],
   "source": [
    "import matplotlib.pyplot as plt\n",
    "import ipywidgets as widgets\n",
    "from IPython.display import display\n",
    "\n",
    "def interactive_popin_viewer(results):\n",
    "    \"\"\"\n",
    "    Interactively visualize autoencoder results:\n",
    "    - original vs reconstructed curve\n",
    "    - reconstruction error with detected pop-ins\n",
    "    - pop-in positions on the original curve\n",
    "    \"\"\"\n",
    "\n",
    "    def plot_curve(i):\n",
    "        r = results[i]\n",
    "        curve = r[\"curve\"]\n",
    "        recon = r[\"reconstruction\"]\n",
    "        error = r[\"error\"]\n",
    "        popin_idx = r[\"popin_idx\"]\n",
    "        sheet = r[\"sheet\"]\n",
    "\n",
    "        fig, axs = plt.subplots(1, 3, figsize=(16, 4))\n",
    "\n",
    "        axs[0].plot(curve, label=\"Original\")\n",
    "        axs[0].plot(recon, label=\"Reconstructed\", linestyle=\"--\")\n",
    "        axs[0].set_title(f\"{sheet} – Input vs Reconstruction\")\n",
    "        axs[0].legend()\n",
    "        axs[0].grid(True)\n",
    "\n",
    "        axs[1].plot(error, label=\"Error\", color=\"orange\")\n",
    "        axs[1].scatter(popin_idx, error[popin_idx], color=\"red\", s=10)\n",
    "        axs[1].set_title(\"Reconstruction Error\")\n",
    "        axs[1].legend()\n",
    "        axs[1].grid(True)\n",
    "\n",
    "        axs[2].plot(curve, label=\"Original\")\n",
    "        axs[2].scatter(popin_idx, curve[popin_idx], color=\"red\", s=10, label=\"Pop-in\")\n",
    "        axs[2].set_title(\"Detected Pop-ins\")\n",
    "        axs[2].legend()\n",
    "        axs[2].grid(True)\n",
    "\n",
    "        plt.tight_layout()\n",
    "        plt.show()\n",
    "\n",
    "    slider = widgets.IntSlider(\n",
    "        value=0,\n",
    "        min=0,\n",
    "        max=len(results) - 1,\n",
    "        step=1,\n",
    "        description='Curve:',\n",
    "        continuous_update=False\n",
    "    )\n",
    "\n",
    "    widgets.interact(plot_curve, i=slider)\n",
    "\n",
    "# Exeute to see the results\n",
    "interactive_popin_viewer(results)"
   ]
  },
  {
   "cell_type": "code",
   "execution_count": 21,
   "id": "4d058ec2-4c32-4b71-bd9c-5a4076e1f342",
   "metadata": {},
   "outputs": [],
   "source": [
    "from itertools import groupby\n",
    "from operator import itemgetter\n",
    "\n",
    "def group_consecutive(indices, min_gap=1):\n",
    "    \"\"\"\n",
    "    Raggruppa indici consecutivi in gruppi (es. pop-in multipli).\n",
    "    min_gap: numero minimo di punti tra due eventi distinti\n",
    "    \"\"\"\n",
    "    grouped = []\n",
    "    for k, g in groupby(enumerate(indices), lambda x: x[0] - x[1]):\n",
    "        group = list(map(itemgetter(1), g))\n",
    "        if len(group) > 1:\n",
    "            grouped.append(group)\n",
    "    return grouped"
   ]
  },
  {
   "cell_type": "code",
   "execution_count": 22,
   "id": "8aaf497c-073a-4a44-9444-9d8e68ea03aa",
   "metadata": {},
   "outputs": [],
   "source": [
    "for r in results:\n",
    "    depth = r[\"depth_interp\"]\n",
    "    load = r[\"curve\"]\n",
    "    popin_groups = group_consecutive(r[\"popin_idx\"])\n",
    "\n",
    "    events = []\n",
    "    for group in popin_groups:\n",
    "        i_start = group[0]\n",
    "        i_end = group[-1]\n",
    "\n",
    "        d_depth = depth[i_end] - depth[i_start]\n",
    "        d_load = load[i_end] - load[i_start]\n",
    "\n",
    "        # Assumendo acquisizione uniforme → può essere anche in frame\n",
    "        velocity = d_load / d_depth if d_depth != 0 else np.nan\n",
    "\n",
    "        events.append({\n",
    "            \"start\": i_start,\n",
    "            \"end\": i_end,\n",
    "            \"depth_start\": depth[i_start],\n",
    "            \"depth_end\": depth[i_end],\n",
    "            \"load_start\": load[i_start],\n",
    "            \"load_end\": load[i_end],\n",
    "            \"delta_depth\": d_depth,\n",
    "            \"delta_load\": d_load,\n",
    "            \"velocity\": velocity\n",
    "        })\n",
    "\n",
    "    r[\"popin_events\"] = events"
   ]
  },
  {
   "cell_type": "code",
   "execution_count": 23,
   "id": "6879cfd7-86b0-4b57-b1bf-55d712335c69",
   "metadata": {},
   "outputs": [
    {
     "data": {
      "application/vnd.jupyter.widget-view+json": {
       "model_id": "728dbf4957424632ba1dfea2caae168e",
       "version_major": 2,
       "version_minor": 0
      },
      "text/plain": [
       "interactive(children=(IntSlider(value=0, description='Curve', max=399), Output()), _dom_classes=('widget-inter…"
      ]
     },
     "metadata": {},
     "output_type": "display_data"
    }
   ],
   "source": [
    "import matplotlib.pyplot as plt\n",
    "import ipywidgets as widgets\n",
    "from IPython.display import display\n",
    "\n",
    "def plot_popin_events(results):\n",
    "    def view(i):\n",
    "        r = results[i]\n",
    "        curve = r[\"curve\"]\n",
    "        depth = r[\"depth_interp\"]\n",
    "        sheet = r[\"sheet\"]\n",
    "        popin_events = r.get(\"popin_events\", [])\n",
    "\n",
    "        plt.figure(figsize=(10, 5))\n",
    "        plt.plot(depth, curve, label=\"Normalized Load\", color=\"black\")\n",
    "        plt.title(f\"Curve: {sheet}\")\n",
    "        plt.xlabel(\"Depth (nm)\")\n",
    "        plt.ylabel(\"Normalized Load\")\n",
    "        plt.grid(True)\n",
    "\n",
    "        for ev in popin_events:\n",
    "            i_start, i_end = ev[\"start\"], ev[\"end\"]\n",
    "            x = depth[i_start:i_end+1]\n",
    "            y = curve[i_start:i_end+1]\n",
    "\n",
    "            plt.plot(x, y, color=\"red\", lw=2, label=\"Pop-in\" if ev == popin_events[0] else \"\")\n",
    "\n",
    "            # Annotate with load jump and velocity\n",
    "            if not np.isnan(ev[\"velocity\"]):\n",
    "                x_txt = depth[(i_start + i_end) // 2]\n",
    "                y_txt = curve[(i_start + i_end) // 2]\n",
    "                txt = f\"ΔL={ev['delta_load']:.2f} mN\\nv={ev['velocity']:.2f} mN/s\"\n",
    "                plt.annotate(txt, (x_txt, y_txt), textcoords=\"offset points\", xytext=(5, 5), fontsize=9, color=\"darkred\")\n",
    "\n",
    "        plt.legend()\n",
    "        plt.tight_layout()\n",
    "        plt.show()\n",
    "\n",
    "    slider = widgets.IntSlider(0, 0, len(results)-1, step=1, description=\"Curve\")\n",
    "    widgets.interact(view, i=slider)\n",
    "\n",
    "# Call this to launch the interactive plot\n",
    "plot_popin_events(results)"
   ]
  },
  {
   "cell_type": "code",
   "execution_count": 24,
   "id": "35703b8b-ab30-4f50-8292-4d4fd2c42099",
   "metadata": {},
   "outputs": [
    {
     "data": {
      "image/png": "[encoded data removed]",
      "text/plain": [
       "<Figure size 800x500 with 1 Axes>"
      ]
     },
     "metadata": {},
     "output_type": "display_data"
    }
   ],
   "source": [
    "import matplotlib.pyplot as plt\n",
    "\n",
    "# Extract all velocities from all curves\n",
    "all_velocities = []\n",
    "\n",
    "for r in results:\n",
    "    events = r.get(\"popin_events\", [])\n",
    "    for ev in events:\n",
    "        if not np.isnan(ev[\"velocity\"]):\n",
    "            all_velocities.append(ev[\"velocity\"])\n",
    "\n",
    "# Plot histogram\n",
    "plt.figure(figsize=(8, 5))\n",
    "plt.hist(all_velocities, bins=30, color=\"steelblue\", edgecolor=\"black\", alpha=0.8)\n",
    "plt.title(\"Distribution of Pop-in Velocities\")\n",
    "plt.xlabel(\"Velocity (Δload / Δdepth)\")\n",
    "plt.ylabel(\"Count\")\n",
    "plt.grid(True)\n",
    "plt.tight_layout()\n",
    "plt.show()"
   ]
  },
  {
   "cell_type": "code",
   "execution_count": 25,
   "id": "f4d6e964-b783-434b-9ddd-612cb975f5f6",
   "metadata": {},
   "outputs": [
    {
     "data": {
      "image/png": "[encoded data removed]",
      "text/plain": [
       "<Figure size 800x500 with 1 Axes>"
      ]
     },
     "metadata": {},
     "output_type": "display_data"
    }
   ],
   "source": [
    "import matplotlib.pyplot as plt\n",
    "\n",
    "def plot_popin_distribution(results, load_key=\"curve\"):\n",
    "    \"\"\"\n",
    "    Plot distribution of the first detected pop-in loads from results.\n",
    "    \n",
    "    Parameters:\n",
    "    - results: list of dicts, each with keys:\n",
    "        'curve' (load-depth or load array),\n",
    "        'popin_idx' (list of indices for detected pop-ins),\n",
    "        'sheet' (optional metadata)\n",
    "    - load_key: specify the key for load array (default: 'curve')\n",
    "    \"\"\"\n",
    "    first_popins = []\n",
    "\n",
    "    for r in results:\n",
    "        popins = r[\"popin_idx\"]\n",
    "        if len(popins) > 0:\n",
    "            # Take the first detected pop-in index\n",
    "            idx = popins[0]\n",
    "            # Get corresponding load value\n",
    "            load_array = r[load_key]\n",
    "            first_popins.append(load_array[idx])\n",
    "\n",
    "    if not first_popins:\n",
    "        print(\"No pop-ins detected in any curve.\")\n",
    "        return\n",
    "\n",
    "    plt.figure(figsize=(8, 5))\n",
    "    plt.hist(first_popins, bins=30, color='steelblue', edgecolor='black', alpha=0.7)\n",
    "    plt.title(\"Distribution of First Detected Pop-in Loads\")\n",
    "    plt.xlabel(\"Load at First Pop-in\")\n",
    "    plt.ylabel(\"Frequency\")\n",
    "    plt.grid(True)\n",
    "    plt.show()\n",
    "\n",
    "# Example usage\n",
    "plot_popin_distribution(results)\n"
   ]
  },
  {
   "cell_type": "code",
   "execution_count": null,
   "id": "638cc427-245c-480b-9b36-9e2baa651806",
   "metadata": {},
   "outputs": [],
   "source": []
  }
 ],
 "metadata": {
  "kernelspec": {
   "display_name": "Python 3 (ipykernel)",
   "language": "python",
   "name": "python3"
  },
  "language_info": {
   "codemirror_mode": {
    "name": "ipython",
    "version": 3
   },
   "file_extension": ".py",
   "mimetype": "text/x-python",
   "name": "python",
   "nbconvert_exporter": "python",
   "pygments_lexer": "ipython3",
   "version": "3.12.7"
  }
 },
 "nbformat": 4,
 "nbformat_minor": 5
}
